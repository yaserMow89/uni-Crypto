{
 "cells": [
  {
   "cell_type": "code",
   "execution_count": 2,
   "id": "77021997",
   "metadata": {},
   "outputs": [],
   "source": [
    "def is_prime(n):\n",
    "    \"\"\"Check if a number is prime.\"\"\"\n",
    "    if n <= 1:\n",
    "        return False\n",
    "    for i in range(2, int(n**0.5) + 1):\n",
    "        if n % i == 0:\n",
    "            return False\n",
    "    return True\n",
    "\n",
    "def generate_prime(start):\n",
    "    \"\"\"Generate a prime number starting from 'start'.\"\"\"\n",
    "    prime_candidate = start\n",
    "    while not is_prime(prime_candidate):\n",
    "        prime_candidate += 1\n",
    "    return prime_candidate\n",
    "\n",
    "def gcd(a, b):\n",
    "    while b:\n",
    "        a, b = b, a % b\n",
    "    return a\n",
    "\n",
    "def modinv(a, m):\n",
    "    \"\"\"Compute the modular inverse of a modulo m.\"\"\"\n",
    "    m0, x0, x1 = m, 0, 1\n",
    "    while a > 1:\n",
    "        q = a // m\n",
    "        m, a = a % m, m\n",
    "        x0, x1 = x1 - q * x0, x0\n",
    "    return x1 + m0 if x1 < 0 else x1\n",
    "\n",
    "def generate_rsa_keys():\n",
    "    # Generate two prime numbers (naively)\n",
    "    p = generate_prime(1000)\n",
    "    q = generate_prime(3000)\n",
    "    n = p * q\n",
    "    phi = (p - 1) * (q - 1)\n",
    "    \n",
    "    # Choose e\n",
    "    e = 3\n",
    "    while gcd(phi, e) != 1:\n",
    "        e += 2\n",
    "    \n",
    "    # Compute d\n",
    "    d = modinv(e, phi)\n",
    "    \n",
    "    # The public key is (e, n) and the private key is (d, n)\n",
    "    return ((e, n), (d, n))\n",
    "\n",
    "def rsa_encrypt(public_key, plaintext):\n",
    "    e, n = public_key\n",
    "    plaintext_numbers = [ord(char) for char in plaintext]\n",
    "    ciphertext = [pow(char, e, n) for char in plaintext_numbers]\n",
    "    return ciphertext\n",
    "\n",
    "def rsa_decrypt(private_key, ciphertext):\n",
    "    d, n = private_key\n",
    "    decrypted_numbers = [pow(char, d, n) for char in ciphertext]\n",
    "    plaintext = ''.join(chr(num) for num in decrypted_numbers)\n",
    "    return plaintext\n",
    "\n",
    "\n"
   ]
  },
  {
   "cell_type": "code",
   "execution_count": 4,
   "id": "3cc002eb",
   "metadata": {},
   "outputs": [
    {
     "name": "stdout",
     "output_type": "stream",
     "text": [
      "Original: Hello, RSA!\n",
      "Encrypted: [1071010, 296650, 2594924, 2594924, 881882, 270877, 2109063, 824054, 2182190, 311509, 1054566]\n",
      "Decrypted: Hello, RSA!\n"
     ]
    }
   ],
   "source": [
    "public_key, private_key = generate_rsa_keys()\n",
    "\n",
    "plaintext = \"Hello, RSA!\"\n",
    "print(\"Original:\", plaintext)\n",
    "\n",
    "ciphertext = rsa_encrypt(public_key, plaintext)\n",
    "print(\"Encrypted:\", ciphertext)\n",
    "\n",
    "decrypted_text = rsa_decrypt(private_key, ciphertext)\n",
    "print(\"Decrypted:\", decrypted_text)"
   ]
  },
  {
   "cell_type": "code",
   "execution_count": null,
   "id": "bbef1858",
   "metadata": {},
   "outputs": [],
   "source": []
  }
 ],
 "metadata": {
  "kernelspec": {
   "display_name": "Python 3 (ipykernel)",
   "language": "python",
   "name": "python3"
  },
  "language_info": {
   "codemirror_mode": {
    "name": "ipython",
    "version": 3
   },
   "file_extension": ".py",
   "mimetype": "text/x-python",
   "name": "python",
   "nbconvert_exporter": "python",
   "pygments_lexer": "ipython3",
   "version": "3.11.5"
  }
 },
 "nbformat": 4,
 "nbformat_minor": 5
}
